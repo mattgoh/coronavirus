{
 "cells": [
  {
   "cell_type": "raw",
   "id": "aab6f81f-8845-46af-8e62-d1dd9c1ea287",
   "metadata": {},
   "source": [
    "LOCUS       NC_045512              29903 bp ss-RNA     linear   VRL 18-JUL-2020\n",
    "DEFINITION  Severe acute respiratory syndrome coronavirus 2 isolate Wuhan-Hu-1,\n",
    "            complete genome.\n",
    "ACCESSION   NC_045512\n",
    "VERSION     NC_045512.2\n",
    "DBLINK      BioProject: PRJNA485481\n",
    "KEYWORDS    RefSeq."
   ]
  },
  {
   "cell_type": "code",
   "execution_count": 8,
   "id": "2e4fb162-3f01-4398-9bfe-c1fc85121327",
   "metadata": {},
   "outputs": [],
   "source": [
    "with open('NC_045512.txt', 'r') as f:\n",
    "    genome=f.read()"
   ]
  },
  {
   "cell_type": "code",
   "execution_count": 10,
   "id": "5946cc90-5f32-4123-ab6d-abbd474c18d7",
   "metadata": {},
   "outputs": [
    {
     "data": {
      "text/plain": [
       "29903"
      ]
     },
     "execution_count": 10,
     "metadata": {},
     "output_type": "execute_result"
    }
   ],
   "source": [
    "len(genome)"
   ]
  },
  {
   "cell_type": "code",
   "execution_count": null,
   "id": "3dcdcd9e-1570-44f0-99ef-2bc77c8e1e1c",
   "metadata": {},
   "outputs": [],
   "source": []
  }
 ],
 "metadata": {
  "kernelspec": {
   "display_name": "Python 3 (ipykernel)",
   "language": "python",
   "name": "python3"
  },
  "language_info": {
   "codemirror_mode": {
    "name": "ipython",
    "version": 3
   },
   "file_extension": ".py",
   "mimetype": "text/x-python",
   "name": "python",
   "nbconvert_exporter": "python",
   "pygments_lexer": "ipython3",
   "version": "3.8.10"
  }
 },
 "nbformat": 4,
 "nbformat_minor": 5
}
